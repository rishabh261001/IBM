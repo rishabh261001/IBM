{
 "cells": [
  {
   "cell_type": "markdown",
   "id": "c62d4df7",
   "metadata": {},
   "source": [
    "<h1>My Jupyter Notebook on IBM Watson Studio</h1>"
   ]
  },
  {
   "cell_type": "markdown",
   "id": "d0ea6bc0",
   "metadata": {},
   "source": [
    "<p>Name: Rishabh SIngh</p>\n",
    "<p>Current Occupation: Third year Student</p>\n",
    "<p>Desired Occupation: Data Science</p>"
   ]
  },
  {
   "cell_type": "markdown",
   "id": "e6d9813a",
   "metadata": {},
   "source": [
    "<i>I am intrested in Data Science because this field is for those who are curious and thinkers</i>"
   ]
  },
  {
   "cell_type": "markdown",
   "id": "127175f0",
   "metadata": {},
   "source": [
    "<h3>My code is supposed to generate a fibbonacci series upon input</h3>"
   ]
  },
  {
   "cell_type": "code",
   "execution_count": 5,
   "id": "2c00e363",
   "metadata": {},
   "outputs": [
    {
     "name": "stdout",
     "output_type": "stream",
     "text": [
      "10\n",
      "0 1 1 2 3 5 8 13 21 34 55 89 "
     ]
    }
   ],
   "source": [
    "def fibbonacci(n):\n",
    "    if n<0:\n",
    "        return\n",
    "    if n==0:\n",
    "        print(0)\n",
    "        return\n",
    "    print(0,end=\" \")\n",
    "    print(1,end=\" \")\n",
    "    fibbo_num=0\n",
    "    i=0\n",
    "    j=1\n",
    "    for k in range(n):\n",
    "        fibbo_num=i+j\n",
    "        i=j\n",
    "        j=fibbo_num\n",
    "        print(fibbo_num,end=\" \")\n",
    "n=int(input())\n",
    "fibbonacci(n)"
   ]
  },
  {
   "cell_type": "markdown",
   "id": "99cf522b",
   "metadata": {},
   "source": [
    "<p><strike>Impossible</strike> I am possible</p>\n",
    "<hr>\n",
    "<p> <b>Ingredients for success</b> \n",
    "<ul>\n",
    "    <li>determination</li>\n",
    "    <li>sheer will </li>\n",
    "    <li> focus</li>\n",
    "</ul>"
   ]
  },
  {
   "cell_type": "code",
   "execution_count": null,
   "id": "19fd6011",
   "metadata": {},
   "outputs": [],
   "source": []
  }
 ],
 "metadata": {
  "kernelspec": {
   "display_name": "Python 3",
   "language": "python",
   "name": "python3"
  },
  "language_info": {
   "codemirror_mode": {
    "name": "ipython",
    "version": 3
   },
   "file_extension": ".py",
   "mimetype": "text/x-python",
   "name": "python",
   "nbconvert_exporter": "python",
   "pygments_lexer": "ipython3",
   "version": "3.8.8"
  }
 },
 "nbformat": 4,
 "nbformat_minor": 5
}
